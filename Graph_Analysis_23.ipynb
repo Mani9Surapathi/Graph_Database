{
 "cells": [
  {
   "cell_type": "code",
   "execution_count": 1,
   "id": "080eaebc",
   "metadata": {
    "id": "080eaebc"
   },
   "outputs": [],
   "source": [
    "# ! pip install networkx"
   ]
  },
  {
   "cell_type": "code",
   "execution_count": 2,
   "id": "1709b9b7",
   "metadata": {
    "id": "1709b9b7"
   },
   "outputs": [],
   "source": [
    "import networkx as nx \n",
    "import pandas as pd \n",
    "import matplotlib.pyplot as plt \n",
    "import scipy\n",
    "import numpy as np"
   ]
  },
  {
   "cell_type": "code",
   "execution_count": 3,
   "id": "38fe3c29",
   "metadata": {
    "id": "38fe3c29"
   },
   "outputs": [],
   "source": [
    "# importing data as dataframes\n",
    "us_bus = pd.read_csv(r'C:\\Users\\Mani\\myjupyter_notes\\Truist\\.ipynb_checkpoints\\user_business.dat', sep='\\t', skiprows=0, header=None)\n",
    "us_us = pd.read_csv(r'C:\\Users\\Mani\\myjupyter_notes\\Truist\\.ipynb_checkpoints\\user_user.dat', sep='\\t', skiprows=0, header=None)"
   ]
  },
  {
   "cell_type": "code",
   "execution_count": 4,
   "id": "312d0668",
   "metadata": {
    "id": "312d0668"
   },
   "outputs": [],
   "source": [
    "# Setting header names\n",
    "us_us.columns = ['User','Users','relationship'] \n",
    "us_bus.columns = ['User','Business','Rating']"
   ]
  },
  {
   "cell_type": "code",
   "execution_count": 5,
   "id": "8b813dfa",
   "metadata": {
    "id": "8b813dfa"
   },
   "outputs": [],
   "source": [
    "us_bus['User'] = 'u' + us_bus['User'].astype(str)\n",
    "us_bus['Business'] = 'b' + us_bus['Business'].astype(str)\n",
    "us_bus['Rating'] =  us_bus['Rating'].astype(int)"
   ]
  },
  {
   "cell_type": "code",
   "execution_count": 6,
   "id": "0f69f5eb",
   "metadata": {
    "id": "0f69f5eb"
   },
   "outputs": [],
   "source": [
    "us_us['User'] = 'u' + us_us['User'].astype(str)\n",
    "us_us['Users'] = 'u' + us_us['Users'].astype(str) #Assigning us to Users\n",
    "us_us['relationship']= us_us['relationship'].astype(int)"
   ]
  },
  {
   "cell_type": "code",
   "execution_count": 7,
   "id": "d178da7f",
   "metadata": {
    "colab": {
     "base_uri": "https://localhost:8080/"
    },
    "id": "d178da7f",
    "outputId": "f669ba03-7eb5-48dd-f915-2f219fcf4b4e"
   },
   "outputs": [
    {
     "data": {
      "text/plain": [
       "(198398, 3)"
      ]
     },
     "execution_count": 7,
     "metadata": {},
     "output_type": "execute_result"
    }
   ],
   "source": [
    "# adding a dummy user u0, who is connected to user 1 and rated same business\n",
    "new_row = pd.DataFrame({'User':'u0', 'Business':'b8391', 'Rating':1,},index =[0])\n",
    "# simply concatenate both dataframes\n",
    "us_bus = pd.concat([new_row, us_bus]).reset_index(drop = True)\n",
    "# us_bus=us_bus.head(20)\n",
    "us_bus.shape"
   ]
  },
  {
   "cell_type": "code",
   "execution_count": 8,
   "id": "9ce01ef1",
   "metadata": {
    "colab": {
     "base_uri": "https://localhost:8080/"
    },
    "id": "9ce01ef1",
    "outputId": "1472cd7a-365b-4e51-84ba-b2dd05403c42"
   },
   "outputs": [
    {
     "data": {
      "text/plain": [
       "(158591, 3)"
      ]
     },
     "execution_count": 8,
     "metadata": {},
     "output_type": "execute_result"
    }
   ],
   "source": [
    "new_row = pd.DataFrame({'User':'u0', 'Users':'u1', 'relationship':1,},index =[0])\n",
    "us_us = pd.concat([new_row, us_us]).reset_index(drop = True)\n",
    "# us_us = us_us.head(20)\n",
    "us_us.shape"
   ]
  },
  {
   "cell_type": "code",
   "execution_count": 9,
   "id": "c8897155",
   "metadata": {
    "colab": {
     "base_uri": "https://localhost:8080/"
    },
    "id": "c8897155",
    "outputId": "6cb593a0-0647-47b5-f7c5-29dd8f9743a1"
   },
   "outputs": [
    {
     "data": {
      "text/plain": [
       "14284"
      ]
     },
     "execution_count": 9,
     "metadata": {},
     "output_type": "execute_result"
    }
   ],
   "source": [
    "node_businesses = list(set(us_bus['Business'].to_list()))\n",
    "len(node_businesses)"
   ]
  },
  {
   "cell_type": "code",
   "execution_count": 10,
   "id": "ae95ed2e",
   "metadata": {
    "colab": {
     "base_uri": "https://localhost:8080/"
    },
    "id": "ae95ed2e",
    "outputId": "96d93942-a4b4-443c-a5a5-3c3a4523a630"
   },
   "outputs": [
    {
     "data": {
      "text/plain": [
       "16240"
      ]
     },
     "execution_count": 10,
     "metadata": {},
     "output_type": "execute_result"
    }
   ],
   "source": [
    "node_users = list(set(us_bus['User'].to_list() + us_us['User'].to_list() + us_us['Users'].to_list()))\n",
    "len(node_users)"
   ]
  },
  {
   "cell_type": "code",
   "execution_count": 11,
   "id": "f56e4304",
   "metadata": {
    "id": "f56e4304"
   },
   "outputs": [],
   "source": [
    "# Creating nodes\n",
    "G_users = nx.Graph()\n",
    "G_businesses=nx.Graph()\n",
    "# Add nodes to the graph\n",
    "for node in node_users:\n",
    "    G_users.add_node(node)\n",
    "    \n",
    "for node in node_businesses:\n",
    "    G_businesses.add_node(node)"
   ]
  },
  {
   "cell_type": "code",
   "execution_count": 12,
   "id": "52e10f0d",
   "metadata": {
    "id": "52e10f0d"
   },
   "outputs": [],
   "source": [
    "# Setting attribute name and value to nodes created above to distinguish entities\n",
    "users =  node_users\n",
    "user_dict = dict(zip(G_users.nodes(), users))\n",
    "nx.set_node_attributes(G_users, values = user_dict, name='User')\n",
    "\n",
    "businesses = node_businesses\n",
    "business_dict = dict(zip(G_businesses.nodes(), businesses))\n",
    "nx.set_node_attributes(G_businesses, values = business_dict, name='Business')"
   ]
  },
  {
   "cell_type": "code",
   "execution_count": 13,
   "id": "926167ec",
   "metadata": {
    "id": "926167ec"
   },
   "outputs": [],
   "source": [
    "# Bringing user nodes and businesses nodes into same graph database \n",
    "G = nx.compose(G_users,G_businesses)"
   ]
  },
  {
   "cell_type": "code",
   "execution_count": 14,
   "id": "34eb0300",
   "metadata": {
    "id": "34eb0300"
   },
   "outputs": [],
   "source": [
    "# Adding relationship \"rating\"\n",
    "for index, row in us_bus.iterrows():\n",
    "    G.add_edge(row['User'], row['Business'], rating=row['Rating'], directed=True)"
   ]
  },
  {
   "cell_type": "code",
   "execution_count": 15,
   "id": "e9d7203d",
   "metadata": {
    "id": "e9d7203d"
   },
   "outputs": [],
   "source": [
    "# Adding relationship \"friend\"\n",
    "for index, row in us_us.iterrows():\n",
    "    G.add_edge(row['User'], row['Users'], friend=row['relationship'])"
   ]
  },
  {
   "cell_type": "code",
   "execution_count": 16,
   "id": "e252de31",
   "metadata": {
    "colab": {
     "base_uri": "https://localhost:8080/"
    },
    "id": "e252de31",
    "outputId": "fc94a5ca-70a5-4df3-a19a-fee19d0062d9"
   },
   "outputs": [
    {
     "data": {
      "text/plain": [
       "[('u8452', {'User': 'u8452'}),\n",
       " ('u13131', {'User': 'u13131'}),\n",
       " ('u7641', {'User': 'u7641'}),\n",
       " ('u14137', {'User': 'u14137'}),\n",
       " ('u13008', {'User': 'u13008'}),\n",
       " ('b1295', {'Business': 'b1295'}),\n",
       " ('b375', {'Business': 'b375'}),\n",
       " ('b9798', {'Business': 'b9798'})]"
      ]
     },
     "execution_count": 16,
     "metadata": {},
     "output_type": "execute_result"
    }
   ],
   "source": [
    "# Not the output I expected !! WTH,\n",
    "list(G.nodes(data = True))[::4000]"
   ]
  },
  {
   "cell_type": "code",
   "execution_count": 17,
   "id": "qen6oUvo07OE",
   "metadata": {
    "colab": {
     "base_uri": "https://localhost:8080/"
    },
    "id": "qen6oUvo07OE",
    "outputId": "3e0f82ad-aa4f-4354-ec88-2a1fe1f3e1d2"
   },
   "outputs": [
    {
     "data": {
      "text/plain": [
       "[('u8452', {'User': 'u8452'}),\n",
       " ('u11844', {'User': 'u11844'}),\n",
       " ('b1295', {'Business': 'b1295'}),\n",
       " ('b744', {'Business': 'b744'})]"
      ]
     },
     "execution_count": 17,
     "metadata": {},
     "output_type": "execute_result"
    }
   ],
   "source": [
    "list(G.nodes(data=True))[::10000]"
   ]
  },
  {
   "cell_type": "code",
   "execution_count": 18,
   "id": "fe02ac28",
   "metadata": {
    "colab": {
     "base_uri": "https://localhost:8080/"
    },
    "id": "fe02ac28",
    "outputId": "82043acb-b5b9-4196-dea0-57a0e5a921b2",
    "scrolled": true
   },
   "outputs": [
    {
     "data": {
      "text/plain": [
       "[('u8452', 'b3461', {'rating': 2, 'directed': True}),\n",
       " ('u13795', 'b8968', {'rating': 4, 'directed': True}),\n",
       " ('u14318', 'u10956', {'friend': 1}),\n",
       " ('u13266', 'u4549', {'friend': 1}),\n",
       " ('u10574', 'b3200', {'rating': 3, 'directed': True}),\n",
       " ('u9805', 'u2014', {'friend': 1}),\n",
       " ('u4960', 'b2779', {'rating': 5, 'directed': True}),\n",
       " ('u1539', 'u11069', {'friend': 1}),\n",
       " ('u12023', 'b13174', {'rating': 4, 'directed': True}),\n",
       " ('u5049', 'u13750', {'friend': 1}),\n",
       " ('u2418', 'b9311', {'rating': 1, 'directed': True}),\n",
       " ('u2888', 'u2274', {'friend': 1}),\n",
       " ('u538', 'b1701', {'rating': 4, 'directed': True}),\n",
       " ('u5630', 'b2756', {'rating': 5, 'directed': True}),\n",
       " ('u15624', 'u6228', {'friend': 1}),\n",
       " ('u14835', 'b10103', {'rating': 3, 'directed': True}),\n",
       " ('u13791', 'b6424', {'rating': 2, 'directed': True}),\n",
       " ('u5524', 'b13415', {'rating': 4, 'directed': True}),\n",
       " ('u16124', 'b3068', {'rating': 3, 'directed': True}),\n",
       " ('u6228', 'b12262', {'rating': 4, 'directed': True}),\n",
       " ('u2448', 'b14250', {'rating': 4, 'directed': True}),\n",
       " ('u10090', 'u11069', {'friend': 1}),\n",
       " ('u12999', 'u11069', {'friend': 1}),\n",
       " ('u15316', 'b13175', {'rating': 5, 'directed': True}),\n",
       " ('u3918', 'b7414', {'rating': 5, 'directed': True}),\n",
       " ('u4553', 'b5085', {'rating': 4, 'directed': True}),\n",
       " ('u6359', 'b6996', {'rating': 4, 'directed': True}),\n",
       " ('u7857', 'b8760', {'rating': 3, 'directed': True})]"
      ]
     },
     "execution_count": 18,
     "metadata": {},
     "output_type": "execute_result"
    }
   ],
   "source": [
    "list(G.edges(data = True))[::10000]"
   ]
  },
  {
   "cell_type": "code",
   "execution_count": 19,
   "id": "fg7ALS6gGjB5",
   "metadata": {
    "id": "fg7ALS6gGjB5"
   },
   "outputs": [],
   "source": [
    "# setting sum and count to zero.\n",
    "s = 0\n",
    "c = 0"
   ]
  },
  {
   "cell_type": "code",
   "execution_count": 20,
   "id": "5jSeSLGNMWOI",
   "metadata": {
    "colab": {
     "base_uri": "https://localhost:8080/",
     "height": 35
    },
    "id": "5jSeSLGNMWOI",
    "outputId": "9375cc8d-0705-46d7-c0c8-128a5868cb31"
   },
   "outputs": [
    {
     "data": {
      "text/plain": [
       "'b8391'"
      ]
     },
     "execution_count": 20,
     "metadata": {},
     "output_type": "execute_result"
    }
   ],
   "source": [
    "G.nodes['b8391']['Business']"
   ]
  },
  {
   "cell_type": "code",
   "execution_count": 21,
   "id": "QQtayRDHEYZp",
   "metadata": {
    "colab": {
     "base_uri": "https://localhost:8080/"
    },
    "id": "QQtayRDHEYZp",
    "outputId": "5329f3d4-6e2b-468b-e98d-befa4da8bb7a"
   },
   "outputs": [
    {
     "name": "stdout",
     "output_type": "stream",
     "text": [
      "0.8576135123308066\n"
     ]
    }
   ],
   "source": [
    "for u, v, data in G.edges(data=True):\n",
    "  if data.get('friend', 0) == 1:\n",
    "    common_list = list(nx.common_neighbors(G, u, v))\n",
    "    for node in common_list:\n",
    "      if G.nodes[node].get('Business', 0) != 0:\n",
    "        s += abs(G.get_edge_data(u, node)['rating'] - G.get_edge_data(v, node)['rating'])\n",
    "        c += 1\n",
    "\n",
    "print(s/c)"
   ]
  },
  {
   "cell_type": "code",
   "execution_count": 22,
   "id": "jQKGhbuBXEuP",
   "metadata": {
    "colab": {
     "base_uri": "https://localhost:8080/"
    },
    "id": "jQKGhbuBXEuP",
    "outputId": "8a0c139a-6500-4c27-a0de-ddc16bd6ed53"
   },
   "outputs": [
    {
     "data": {
      "text/plain": [
       "198811"
      ]
     },
     "execution_count": 22,
     "metadata": {},
     "output_type": "execute_result"
    }
   ],
   "source": [
    "c"
   ]
  },
  {
   "cell_type": "code",
   "execution_count": 23,
   "id": "yvhZT6RDQMho",
   "metadata": {
    "colab": {
     "base_uri": "https://localhost:8080/"
    },
    "id": "yvhZT6RDQMho",
    "outputId": "4d488783-0886-435d-e17f-7a132cbc8363"
   },
   "outputs": [
    {
     "data": {
      "text/plain": [
       "277694"
      ]
     },
     "execution_count": 23,
     "metadata": {},
     "output_type": "execute_result"
    }
   ],
   "source": [
    "len(list(G.edges))"
   ]
  },
  {
   "cell_type": "code",
   "execution_count": null,
   "id": "ed606642",
   "metadata": {
    "id": "ed606642"
   },
   "outputs": [],
   "source": []
  },
  {
   "cell_type": "code",
   "execution_count": null,
   "id": "df8b50e2",
   "metadata": {
    "id": "df8b50e2"
   },
   "outputs": [],
   "source": []
  },
  {
   "cell_type": "code",
   "execution_count": null,
   "id": "08283cf3",
   "metadata": {},
   "outputs": [],
   "source": []
  },
  {
   "cell_type": "code",
   "execution_count": null,
   "id": "d863a505",
   "metadata": {},
   "outputs": [],
   "source": []
  }
 ],
 "metadata": {
  "colab": {
   "provenance": []
  },
  "kernelspec": {
   "display_name": "Python 3 (ipykernel)",
   "language": "python",
   "name": "python3"
  },
  "language_info": {
   "codemirror_mode": {
    "name": "ipython",
    "version": 3
   },
   "file_extension": ".py",
   "mimetype": "text/x-python",
   "name": "python",
   "nbconvert_exporter": "python",
   "pygments_lexer": "ipython3",
   "version": "3.9.12"
  }
 },
 "nbformat": 4,
 "nbformat_minor": 5
}
